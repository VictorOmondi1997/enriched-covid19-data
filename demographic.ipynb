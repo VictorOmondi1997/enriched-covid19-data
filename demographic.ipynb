{
 "cells": [
  {
   "cell_type": "markdown",
   "metadata": {},
   "source": [
    "# Demographic Data Cleanup and Export"
   ]
  },
  {
   "cell_type": "markdown",
   "metadata": {},
   "source": [
    "see https://www.census.gov/data/tables/time-series/demo/popest/2010s-counties-detail.html#par_textimage_1383669527"
   ]
  },
  {
   "cell_type": "markdown",
   "metadata": {},
   "source": [
    "see input_data/county_demographics directory for .pdf which contains column definitions for csv"
   ]
  },
  {
   "cell_type": "code",
   "execution_count": 1,
   "metadata": {},
   "outputs": [],
   "source": [
    "import pandas as pd\n",
    "import numpy as np\n",
    "import sqlalchemy as sq\n",
    "import datetime as dt\n",
    "import warnings\n",
    "import os\n",
    "\n",
    "import plotly.graph_objects as go\n",
    "import plotly.express as px\n",
    "import plotly.offline as py\n",
    "from plotly.subplots import make_subplots\n",
    "\n",
    "warnings.filterwarnings(action=\"once\")\n",
    "np.set_printoptions(suppress=True)\n",
    "pd.set_option(\"display.float_format\", lambda x: \"%.5f\" % x)\n",
    "pd.options.display.max_rows = 999"
   ]
  },
  {
   "cell_type": "code",
   "execution_count": 2,
   "metadata": {},
   "outputs": [
    {
     "name": "stdout",
     "output_type": "stream",
     "text": [
      "05_03_2020\n"
     ]
    }
   ],
   "source": [
    "date = dt.datetime.today().strftime(\"%m_%d_%Y\")\n",
    "print(date)"
   ]
  },
  {
   "cell_type": "code",
   "execution_count": 3,
   "metadata": {},
   "outputs": [
    {
     "name": "stdout",
     "output_type": "stream",
     "text": [
      "(656678, 80)\n"
     ]
    }
   ],
   "source": [
    "df = pd.read_csv('input_data/county_demographics/cc-est2018-alldata.csv', encoding = \"ISO-8859-1\")\n",
    "print(df.shape)"
   ]
  },
  {
   "cell_type": "code",
   "execution_count": 4,
   "metadata": {},
   "outputs": [
    {
     "data": {
      "text/html": [
       "<div>\n",
       "<style scoped>\n",
       "    .dataframe tbody tr th:only-of-type {\n",
       "        vertical-align: middle;\n",
       "    }\n",
       "\n",
       "    .dataframe tbody tr th {\n",
       "        vertical-align: top;\n",
       "    }\n",
       "\n",
       "    .dataframe thead th {\n",
       "        text-align: right;\n",
       "    }\n",
       "</style>\n",
       "<table border=\"1\" class=\"dataframe\">\n",
       "  <thead>\n",
       "    <tr style=\"text-align: right;\">\n",
       "      <th></th>\n",
       "      <th>SUMLEV</th>\n",
       "      <th>STATE</th>\n",
       "      <th>COUNTY</th>\n",
       "      <th>STNAME</th>\n",
       "      <th>CTYNAME</th>\n",
       "      <th>YEAR</th>\n",
       "      <th>AGEGRP</th>\n",
       "      <th>TOT_POP</th>\n",
       "      <th>TOT_MALE</th>\n",
       "      <th>TOT_FEMALE</th>\n",
       "      <th>...</th>\n",
       "      <th>HWAC_MALE</th>\n",
       "      <th>HWAC_FEMALE</th>\n",
       "      <th>HBAC_MALE</th>\n",
       "      <th>HBAC_FEMALE</th>\n",
       "      <th>HIAC_MALE</th>\n",
       "      <th>HIAC_FEMALE</th>\n",
       "      <th>HAAC_MALE</th>\n",
       "      <th>HAAC_FEMALE</th>\n",
       "      <th>HNAC_MALE</th>\n",
       "      <th>HNAC_FEMALE</th>\n",
       "    </tr>\n",
       "  </thead>\n",
       "  <tbody>\n",
       "    <tr>\n",
       "      <th>0</th>\n",
       "      <td>50</td>\n",
       "      <td>1</td>\n",
       "      <td>1</td>\n",
       "      <td>Alabama</td>\n",
       "      <td>Autauga County</td>\n",
       "      <td>1</td>\n",
       "      <td>0</td>\n",
       "      <td>54571</td>\n",
       "      <td>26569</td>\n",
       "      <td>28002</td>\n",
       "      <td>...</td>\n",
       "      <td>607</td>\n",
       "      <td>538</td>\n",
       "      <td>57</td>\n",
       "      <td>48</td>\n",
       "      <td>26</td>\n",
       "      <td>32</td>\n",
       "      <td>9</td>\n",
       "      <td>11</td>\n",
       "      <td>19</td>\n",
       "      <td>10</td>\n",
       "    </tr>\n",
       "    <tr>\n",
       "      <th>1</th>\n",
       "      <td>50</td>\n",
       "      <td>1</td>\n",
       "      <td>1</td>\n",
       "      <td>Alabama</td>\n",
       "      <td>Autauga County</td>\n",
       "      <td>1</td>\n",
       "      <td>1</td>\n",
       "      <td>3579</td>\n",
       "      <td>1866</td>\n",
       "      <td>1713</td>\n",
       "      <td>...</td>\n",
       "      <td>77</td>\n",
       "      <td>56</td>\n",
       "      <td>9</td>\n",
       "      <td>5</td>\n",
       "      <td>4</td>\n",
       "      <td>1</td>\n",
       "      <td>0</td>\n",
       "      <td>0</td>\n",
       "      <td>2</td>\n",
       "      <td>1</td>\n",
       "    </tr>\n",
       "  </tbody>\n",
       "</table>\n",
       "<p>2 rows × 80 columns</p>\n",
       "</div>"
      ],
      "text/plain": [
       "   SUMLEV  STATE  COUNTY   STNAME         CTYNAME  YEAR  AGEGRP  TOT_POP  \\\n",
       "0      50      1       1  Alabama  Autauga County     1       0    54571   \n",
       "1      50      1       1  Alabama  Autauga County     1       1     3579   \n",
       "\n",
       "   TOT_MALE  TOT_FEMALE     ...       HWAC_MALE  HWAC_FEMALE  HBAC_MALE  \\\n",
       "0     26569       28002     ...             607          538         57   \n",
       "1      1866        1713     ...              77           56          9   \n",
       "\n",
       "   HBAC_FEMALE  HIAC_MALE  HIAC_FEMALE  HAAC_MALE  HAAC_FEMALE  HNAC_MALE  \\\n",
       "0           48         26           32          9           11         19   \n",
       "1            5          4            1          0            0          2   \n",
       "\n",
       "   HNAC_FEMALE  \n",
       "0           10  \n",
       "1            1  \n",
       "\n",
       "[2 rows x 80 columns]"
      ]
     },
     "execution_count": 4,
     "metadata": {},
     "output_type": "execute_result"
    }
   ],
   "source": [
    "df.head(2)"
   ]
  },
  {
   "cell_type": "code",
   "execution_count": 5,
   "metadata": {},
   "outputs": [
    {
     "data": {
      "text/plain": [
       "Index(['SUMLEV', 'STATE', 'COUNTY', 'STNAME', 'CTYNAME', 'YEAR', 'AGEGRP',\n",
       "       'TOT_POP', 'TOT_MALE', 'TOT_FEMALE', 'WA_MALE', 'WA_FEMALE', 'BA_MALE',\n",
       "       'BA_FEMALE', 'IA_MALE', 'IA_FEMALE', 'AA_MALE', 'AA_FEMALE', 'NA_MALE',\n",
       "       'NA_FEMALE', 'TOM_MALE', 'TOM_FEMALE', 'WAC_MALE', 'WAC_FEMALE',\n",
       "       'BAC_MALE', 'BAC_FEMALE', 'IAC_MALE', 'IAC_FEMALE', 'AAC_MALE',\n",
       "       'AAC_FEMALE', 'NAC_MALE', 'NAC_FEMALE', 'NH_MALE', 'NH_FEMALE',\n",
       "       'NHWA_MALE', 'NHWA_FEMALE', 'NHBA_MALE', 'NHBA_FEMALE', 'NHIA_MALE',\n",
       "       'NHIA_FEMALE', 'NHAA_MALE', 'NHAA_FEMALE', 'NHNA_MALE', 'NHNA_FEMALE',\n",
       "       'NHTOM_MALE', 'NHTOM_FEMALE', 'NHWAC_MALE', 'NHWAC_FEMALE',\n",
       "       'NHBAC_MALE', 'NHBAC_FEMALE', 'NHIAC_MALE', 'NHIAC_FEMALE',\n",
       "       'NHAAC_MALE', 'NHAAC_FEMALE', 'NHNAC_MALE', 'NHNAC_FEMALE', 'H_MALE',\n",
       "       'H_FEMALE', 'HWA_MALE', 'HWA_FEMALE', 'HBA_MALE', 'HBA_FEMALE',\n",
       "       'HIA_MALE', 'HIA_FEMALE', 'HAA_MALE', 'HAA_FEMALE', 'HNA_MALE',\n",
       "       'HNA_FEMALE', 'HTOM_MALE', 'HTOM_FEMALE', 'HWAC_MALE', 'HWAC_FEMALE',\n",
       "       'HBAC_MALE', 'HBAC_FEMALE', 'HIAC_MALE', 'HIAC_FEMALE', 'HAAC_MALE',\n",
       "       'HAAC_FEMALE', 'HNAC_MALE', 'HNAC_FEMALE'],\n",
       "      dtype='object')"
      ]
     },
     "execution_count": 5,
     "metadata": {},
     "output_type": "execute_result"
    }
   ],
   "source": [
    "df.columns"
   ]
  },
  {
   "cell_type": "code",
   "execution_count": 6,
   "metadata": {},
   "outputs": [],
   "source": [
    "want_columns = ['SUMLEV', 'STATE', 'COUNTY', 'STNAME', 'CTYNAME', 'YEAR', 'AGEGRP',\n",
    "       'TOT_POP', 'TOT_MALE', 'TOT_FEMALE', 'WAC_MALE', 'WAC_FEMALE',\n",
    "                'BAC_MALE', 'BAC_FEMALE', 'AAC_MALE', 'AAC_FEMALE',\n",
    "               'H_MALE', 'H_FEMALE']"
   ]
  },
  {
   "cell_type": "code",
   "execution_count": 7,
   "metadata": {},
   "outputs": [
    {
     "name": "stdout",
     "output_type": "stream",
     "text": [
      "(656678, 18)\n"
     ]
    }
   ],
   "source": [
    "df2 = df[want_columns].reset_index(drop=True)\n",
    "print(df2.shape)"
   ]
  },
  {
   "cell_type": "code",
   "execution_count": 8,
   "metadata": {},
   "outputs": [],
   "source": [
    "df2['WHITE_POP_PERC'] = (df2['WAC_MALE'] + df2['WAC_FEMALE']) / df2['TOT_POP']\n",
    "df2['BLACK_POP_PERC'] = (df2['BAC_MALE'] + df2['BAC_FEMALE']) / df2['TOT_POP']\n",
    "df2['ASIAN_POP_PERC'] = (df2['AAC_MALE'] + df2['AAC_FEMALE']) / df2['TOT_POP']\n",
    "df2['HISP_POP_PERC'] = (df2['H_MALE'] + df2['H_FEMALE']) / df2['TOT_POP']\n",
    "df2['MALE_PERC'] = df2['TOT_MALE'] / df2['TOT_POP']\n",
    "df2['FEMALE_PERC'] = df2['TOT_FEMALE'] / df2['TOT_POP']"
   ]
  },
  {
   "cell_type": "code",
   "execution_count": 9,
   "metadata": {},
   "outputs": [],
   "source": [
    "df3 = df2[['STATE', 'COUNTY', 'STNAME', 'CTYNAME', 'YEAR', 'AGEGRP',\n",
    "       'TOT_POP', 'MALE_PERC', 'FEMALE_PERC','WHITE_POP_PERC', 'BLACK_POP_PERC',\n",
    "          'ASIAN_POP_PERC', 'HISP_POP_PERC']].reset_index(drop=True)"
   ]
  },
  {
   "cell_type": "code",
   "execution_count": 10,
   "metadata": {},
   "outputs": [],
   "source": [
    "df3['STATE_COUNTY'] = df3['STATE'].astype('str') + '_' + df3['COUNTY'].astype('str')"
   ]
  },
  {
   "cell_type": "code",
   "execution_count": 11,
   "metadata": {},
   "outputs": [
    {
     "name": "stdout",
     "output_type": "stream",
     "text": [
      "(59698, 14)\n"
     ]
    }
   ],
   "source": [
    "df4 = df3[df3.YEAR == 11].reset_index(drop=True)\n",
    "print(df4.shape)"
   ]
  },
  {
   "cell_type": "code",
   "execution_count": 12,
   "metadata": {},
   "outputs": [
    {
     "data": {
      "text/plain": [
       "3142"
      ]
     },
     "execution_count": 12,
     "metadata": {},
     "output_type": "execute_result"
    }
   ],
   "source": [
    "df4.STATE_COUNTY.nunique()"
   ]
  },
  {
   "cell_type": "code",
   "execution_count": 13,
   "metadata": {},
   "outputs": [
    {
     "data": {
      "text/html": [
       "<div>\n",
       "<style scoped>\n",
       "    .dataframe tbody tr th:only-of-type {\n",
       "        vertical-align: middle;\n",
       "    }\n",
       "\n",
       "    .dataframe tbody tr th {\n",
       "        vertical-align: top;\n",
       "    }\n",
       "\n",
       "    .dataframe thead th {\n",
       "        text-align: right;\n",
       "    }\n",
       "</style>\n",
       "<table border=\"1\" class=\"dataframe\">\n",
       "  <thead>\n",
       "    <tr style=\"text-align: right;\">\n",
       "      <th></th>\n",
       "      <th>STATE</th>\n",
       "      <th>COUNTY</th>\n",
       "      <th>STNAME</th>\n",
       "      <th>CTYNAME</th>\n",
       "      <th>YEAR</th>\n",
       "      <th>AGEGRP</th>\n",
       "      <th>TOT_POP</th>\n",
       "      <th>MALE_PERC</th>\n",
       "      <th>FEMALE_PERC</th>\n",
       "      <th>WHITE_POP_PERC</th>\n",
       "      <th>BLACK_POP_PERC</th>\n",
       "      <th>ASIAN_POP_PERC</th>\n",
       "      <th>HISP_POP_PERC</th>\n",
       "      <th>STATE_COUNTY</th>\n",
       "    </tr>\n",
       "  </thead>\n",
       "  <tbody>\n",
       "    <tr>\n",
       "      <th>0</th>\n",
       "      <td>1</td>\n",
       "      <td>1</td>\n",
       "      <td>Alabama</td>\n",
       "      <td>Autauga County</td>\n",
       "      <td>11</td>\n",
       "      <td>0</td>\n",
       "      <td>55601</td>\n",
       "      <td>0.48551</td>\n",
       "      <td>0.51449</td>\n",
       "      <td>0.78380</td>\n",
       "      <td>0.20617</td>\n",
       "      <td>0.01730</td>\n",
       "      <td>0.02966</td>\n",
       "      <td>1_1</td>\n",
       "    </tr>\n",
       "    <tr>\n",
       "      <th>1</th>\n",
       "      <td>1</td>\n",
       "      <td>1</td>\n",
       "      <td>Alabama</td>\n",
       "      <td>Autauga County</td>\n",
       "      <td>11</td>\n",
       "      <td>1</td>\n",
       "      <td>3364</td>\n",
       "      <td>0.51367</td>\n",
       "      <td>0.48633</td>\n",
       "      <td>0.76546</td>\n",
       "      <td>0.25149</td>\n",
       "      <td>0.02556</td>\n",
       "      <td>0.04875</td>\n",
       "      <td>1_1</td>\n",
       "    </tr>\n",
       "  </tbody>\n",
       "</table>\n",
       "</div>"
      ],
      "text/plain": [
       "   STATE  COUNTY   STNAME         CTYNAME  YEAR  AGEGRP  TOT_POP  MALE_PERC  \\\n",
       "0      1       1  Alabama  Autauga County    11       0    55601    0.48551   \n",
       "1      1       1  Alabama  Autauga County    11       1     3364    0.51367   \n",
       "\n",
       "   FEMALE_PERC  WHITE_POP_PERC  BLACK_POP_PERC  ASIAN_POP_PERC  HISP_POP_PERC  \\\n",
       "0      0.51449         0.78380         0.20617         0.01730        0.02966   \n",
       "1      0.48633         0.76546         0.25149         0.02556        0.04875   \n",
       "\n",
       "  STATE_COUNTY  \n",
       "0          1_1  \n",
       "1          1_1  "
      ]
     },
     "execution_count": 13,
     "metadata": {},
     "output_type": "execute_result"
    }
   ],
   "source": [
    "df4.head(2)"
   ]
  },
  {
   "cell_type": "code",
   "execution_count": 14,
   "metadata": {},
   "outputs": [
    {
     "data": {
      "text/plain": [
       "(3142, 14)"
      ]
     },
     "execution_count": 14,
     "metadata": {},
     "output_type": "execute_result"
    }
   ],
   "source": [
    "df5 = df4[df4.AGEGRP == 0].reset_index(drop=True)\n",
    "df5.shape"
   ]
  },
  {
   "cell_type": "markdown",
   "metadata": {},
   "source": [
    "## Calculate Age Bins"
   ]
  },
  {
   "cell_type": "code",
   "execution_count": 16,
   "metadata": {},
   "outputs": [],
   "source": [
    "age_df = df4[df4.AGEGRP != 0].reset_index(drop=True)\n",
    "age_df = age_df[['STATE_COUNTY', 'AGEGRP', 'TOT_POP']]"
   ]
  },
  {
   "cell_type": "code",
   "execution_count": 17,
   "metadata": {},
   "outputs": [],
   "source": [
    "age_df2 = age_df.pivot_table(\n",
    "    index=\"STATE_COUNTY\", columns=[\"AGEGRP\"], values=[\"TOT_POP\"]\n",
    ")"
   ]
  },
  {
   "cell_type": "code",
   "execution_count": 18,
   "metadata": {},
   "outputs": [],
   "source": [
    "age_df2 = age_df2.reset_index().rename_axis([None, None], axis=1)"
   ]
  },
  {
   "cell_type": "code",
   "execution_count": 19,
   "metadata": {},
   "outputs": [],
   "source": [
    "age_df2.columns = [\n",
    "    \"STATE_COUNTY\", \"A1\", \"A2\", \"A3\", \"A4\", \"A5\", \"A6\", \"A7\", \"A8\", \"A9\", \"A10\", \"A11\",\n",
    "    \"A12\", \"A13\", \"A14\", \"A15\", \"A16\", \"A17\", \"A18\"\n",
    "]"
   ]
  },
  {
   "cell_type": "code",
   "execution_count": 20,
   "metadata": {},
   "outputs": [
    {
     "data": {
      "text/html": [
       "<div>\n",
       "<style scoped>\n",
       "    .dataframe tbody tr th:only-of-type {\n",
       "        vertical-align: middle;\n",
       "    }\n",
       "\n",
       "    .dataframe tbody tr th {\n",
       "        vertical-align: top;\n",
       "    }\n",
       "\n",
       "    .dataframe thead th {\n",
       "        text-align: right;\n",
       "    }\n",
       "</style>\n",
       "<table border=\"1\" class=\"dataframe\">\n",
       "  <thead>\n",
       "    <tr style=\"text-align: right;\">\n",
       "      <th></th>\n",
       "      <th>STATE_COUNTY</th>\n",
       "      <th>A1</th>\n",
       "      <th>A2</th>\n",
       "      <th>A3</th>\n",
       "      <th>A4</th>\n",
       "      <th>A5</th>\n",
       "      <th>A6</th>\n",
       "      <th>A7</th>\n",
       "      <th>A8</th>\n",
       "      <th>A9</th>\n",
       "      <th>A10</th>\n",
       "      <th>A11</th>\n",
       "      <th>A12</th>\n",
       "      <th>A13</th>\n",
       "      <th>A14</th>\n",
       "      <th>A15</th>\n",
       "      <th>A16</th>\n",
       "      <th>A17</th>\n",
       "      <th>A18</th>\n",
       "    </tr>\n",
       "  </thead>\n",
       "  <tbody>\n",
       "    <tr>\n",
       "      <th>0</th>\n",
       "      <td>10_1</td>\n",
       "      <td>11170</td>\n",
       "      <td>11264</td>\n",
       "      <td>11516</td>\n",
       "      <td>12105</td>\n",
       "      <td>12492</td>\n",
       "      <td>12835</td>\n",
       "      <td>11499</td>\n",
       "      <td>10898</td>\n",
       "      <td>9841</td>\n",
       "      <td>10345</td>\n",
       "      <td>11305</td>\n",
       "      <td>11933</td>\n",
       "      <td>10864</td>\n",
       "      <td>9479</td>\n",
       "      <td>8345</td>\n",
       "      <td>5877</td>\n",
       "      <td>3631</td>\n",
       "      <td>3151</td>\n",
       "    </tr>\n",
       "    <tr>\n",
       "      <th>1</th>\n",
       "      <td>10_3</td>\n",
       "      <td>32142</td>\n",
       "      <td>33133</td>\n",
       "      <td>33905</td>\n",
       "      <td>37412</td>\n",
       "      <td>35542</td>\n",
       "      <td>42067</td>\n",
       "      <td>39244</td>\n",
       "      <td>36710</td>\n",
       "      <td>32417</td>\n",
       "      <td>35910</td>\n",
       "      <td>38448</td>\n",
       "      <td>39526</td>\n",
       "      <td>35851</td>\n",
       "      <td>28539</td>\n",
       "      <td>22280</td>\n",
       "      <td>15297</td>\n",
       "      <td>9978</td>\n",
       "      <td>10934</td>\n",
       "    </tr>\n",
       "  </tbody>\n",
       "</table>\n",
       "</div>"
      ],
      "text/plain": [
       "  STATE_COUNTY     A1     A2     A3     A4     A5     A6     A7     A8     A9  \\\n",
       "0         10_1  11170  11264  11516  12105  12492  12835  11499  10898   9841   \n",
       "1         10_3  32142  33133  33905  37412  35542  42067  39244  36710  32417   \n",
       "\n",
       "     A10    A11    A12    A13    A14    A15    A16   A17    A18  \n",
       "0  10345  11305  11933  10864   9479   8345   5877  3631   3151  \n",
       "1  35910  38448  39526  35851  28539  22280  15297  9978  10934  "
      ]
     },
     "execution_count": 20,
     "metadata": {},
     "output_type": "execute_result"
    }
   ],
   "source": [
    "age_df2.head(2)"
   ]
  },
  {
   "cell_type": "markdown",
   "metadata": {},
   "source": [
    "## Merge Back in Calc Age Bin into Final DF"
   ]
  },
  {
   "cell_type": "code",
   "execution_count": 21,
   "metadata": {},
   "outputs": [
    {
     "name": "stdout",
     "output_type": "stream",
     "text": [
      "(3142, 32)\n"
     ]
    }
   ],
   "source": [
    "df6 = pd.merge(df5, age_df2, on=['STATE_COUNTY'])\n",
    "print(df6.shape)"
   ]
  },
  {
   "cell_type": "code",
   "execution_count": 22,
   "metadata": {},
   "outputs": [
    {
     "data": {
      "text/html": [
       "<div>\n",
       "<style scoped>\n",
       "    .dataframe tbody tr th:only-of-type {\n",
       "        vertical-align: middle;\n",
       "    }\n",
       "\n",
       "    .dataframe tbody tr th {\n",
       "        vertical-align: top;\n",
       "    }\n",
       "\n",
       "    .dataframe thead th {\n",
       "        text-align: right;\n",
       "    }\n",
       "</style>\n",
       "<table border=\"1\" class=\"dataframe\">\n",
       "  <thead>\n",
       "    <tr style=\"text-align: right;\">\n",
       "      <th></th>\n",
       "      <th>STATE</th>\n",
       "      <th>COUNTY</th>\n",
       "      <th>STNAME</th>\n",
       "      <th>CTYNAME</th>\n",
       "      <th>YEAR</th>\n",
       "      <th>AGEGRP</th>\n",
       "      <th>TOT_POP</th>\n",
       "      <th>MALE_PERC</th>\n",
       "      <th>FEMALE_PERC</th>\n",
       "      <th>WHITE_POP_PERC</th>\n",
       "      <th>...</th>\n",
       "      <th>A9</th>\n",
       "      <th>A10</th>\n",
       "      <th>A11</th>\n",
       "      <th>A12</th>\n",
       "      <th>A13</th>\n",
       "      <th>A14</th>\n",
       "      <th>A15</th>\n",
       "      <th>A16</th>\n",
       "      <th>A17</th>\n",
       "      <th>A18</th>\n",
       "    </tr>\n",
       "  </thead>\n",
       "  <tbody>\n",
       "    <tr>\n",
       "      <th>0</th>\n",
       "      <td>1</td>\n",
       "      <td>1</td>\n",
       "      <td>Alabama</td>\n",
       "      <td>Autauga County</td>\n",
       "      <td>11</td>\n",
       "      <td>0</td>\n",
       "      <td>55601</td>\n",
       "      <td>0.48551</td>\n",
       "      <td>0.51449</td>\n",
       "      <td>0.78380</td>\n",
       "      <td>...</td>\n",
       "      <td>3616</td>\n",
       "      <td>3966</td>\n",
       "      <td>3811</td>\n",
       "      <td>3927</td>\n",
       "      <td>3237</td>\n",
       "      <td>2589</td>\n",
       "      <td>2311</td>\n",
       "      <td>1739</td>\n",
       "      <td>1143</td>\n",
       "      <td>871</td>\n",
       "    </tr>\n",
       "    <tr>\n",
       "      <th>1</th>\n",
       "      <td>1</td>\n",
       "      <td>3</td>\n",
       "      <td>Alabama</td>\n",
       "      <td>Baldwin County</td>\n",
       "      <td>11</td>\n",
       "      <td>0</td>\n",
       "      <td>218022</td>\n",
       "      <td>0.48462</td>\n",
       "      <td>0.51538</td>\n",
       "      <td>0.88960</td>\n",
       "      <td>...</td>\n",
       "      <td>12877</td>\n",
       "      <td>14461</td>\n",
       "      <td>14242</td>\n",
       "      <td>15744</td>\n",
       "      <td>15665</td>\n",
       "      <td>14267</td>\n",
       "      <td>12471</td>\n",
       "      <td>8465</td>\n",
       "      <td>5064</td>\n",
       "      <td>4304</td>\n",
       "    </tr>\n",
       "  </tbody>\n",
       "</table>\n",
       "<p>2 rows × 32 columns</p>\n",
       "</div>"
      ],
      "text/plain": [
       "   STATE  COUNTY   STNAME         CTYNAME  YEAR  AGEGRP  TOT_POP  MALE_PERC  \\\n",
       "0      1       1  Alabama  Autauga County    11       0    55601    0.48551   \n",
       "1      1       3  Alabama  Baldwin County    11       0   218022    0.48462   \n",
       "\n",
       "   FEMALE_PERC  WHITE_POP_PERC  ...      A9    A10    A11    A12    A13  \\\n",
       "0      0.51449         0.78380  ...    3616   3966   3811   3927   3237   \n",
       "1      0.51538         0.88960  ...   12877  14461  14242  15744  15665   \n",
       "\n",
       "     A14    A15   A16   A17   A18  \n",
       "0   2589   2311  1739  1143   871  \n",
       "1  14267  12471  8465  5064  4304  \n",
       "\n",
       "[2 rows x 32 columns]"
      ]
     },
     "execution_count": 22,
     "metadata": {},
     "output_type": "execute_result"
    }
   ],
   "source": [
    "df6.head(2)"
   ]
  },
  {
   "cell_type": "code",
   "execution_count": 23,
   "metadata": {},
   "outputs": [],
   "source": [
    "df6['AGE_OTO4'] = df6['A1']\n",
    "df6['AGE_5TO14'] = df6['A2'] + df6['A3']\n",
    "df6['AGE_15TO24'] = df6['A4'] + df6['A5']\n",
    "df6['AGE_25TO34'] = df6['A6'] + df6['A7']\n",
    "df6['AGE_35TO44'] = df6['A8'] + df6['A9']\n",
    "df6['AGE_45TO54'] = df6['A10'] + df6['A11']\n",
    "df6['AGE_55TO64'] = df6['A12'] + df6['A13']\n",
    "df6['AGE_65TO74'] = df6['A14'] + df6['A15']\n",
    "df6['AGE_75TO84'] = df6['A16'] + df6['A17']\n",
    "df6['AGE_84PLUS'] = df6['A18']"
   ]
  },
  {
   "cell_type": "code",
   "execution_count": 24,
   "metadata": {},
   "outputs": [],
   "source": [
    "for col in [\"A1\", \"A2\", \"A3\", \"A4\", \"A5\", \"A6\", \"A7\", \"A8\", \"A9\", \"A10\", \"A11\",\n",
    "    \"A12\", \"A13\", \"A14\", \"A15\", \"A16\", \"A17\", \"A18\"]:\n",
    "    del df6[col]"
   ]
  },
  {
   "cell_type": "code",
   "execution_count": 25,
   "metadata": {},
   "outputs": [],
   "source": [
    "del df6['AGEGRP']\n",
    "del df6['YEAR']\n",
    "del df6['STATE_COUNTY']"
   ]
  },
  {
   "cell_type": "code",
   "execution_count": 26,
   "metadata": {},
   "outputs": [
    {
     "data": {
      "text/plain": [
       "(3142, 21)"
      ]
     },
     "execution_count": 26,
     "metadata": {},
     "output_type": "execute_result"
    }
   ],
   "source": [
    "df6.shape"
   ]
  },
  {
   "cell_type": "code",
   "execution_count": 27,
   "metadata": {},
   "outputs": [
    {
     "data": {
      "text/plain": [
       "Index(['STATE', 'COUNTY', 'STNAME', 'CTYNAME', 'TOT_POP', 'MALE_PERC',\n",
       "       'FEMALE_PERC', 'WHITE_POP_PERC', 'BLACK_POP_PERC', 'ASIAN_POP_PERC',\n",
       "       'HISP_POP_PERC', 'AGE_OTO4', 'AGE_5TO14', 'AGE_15TO24', 'AGE_25TO34',\n",
       "       'AGE_35TO44', 'AGE_45TO54', 'AGE_55TO64', 'AGE_65TO74', 'AGE_75TO84',\n",
       "       'AGE_84PLUS'],\n",
       "      dtype='object')"
      ]
     },
     "execution_count": 27,
     "metadata": {},
     "output_type": "execute_result"
    }
   ],
   "source": [
    "df6.columns"
   ]
  },
  {
   "cell_type": "code",
   "execution_count": 28,
   "metadata": {},
   "outputs": [],
   "source": [
    "df6.columns = ['state_fips', 'county_fips', 'state', 'county', 'TOT_POP',\n",
    "       'MALE_PERC', 'FEMALE_PERC', 'WHITE_POP_PERC', 'BLACK_POP_PERC',\n",
    "       'ASIAN_POP_PERC', 'HISP_POP_PERC', 'AGE_OTO4',\n",
    "       'AGE_5TO14', 'AGE_15TO24', 'AGE_25TO34', 'AGE_35TO44', 'AGE_45TO54',\n",
    "       'AGE_55TO64', 'AGE_65TO74', 'AGE_75TO84', 'AGE_84PLUS']"
   ]
  },
  {
   "cell_type": "code",
   "execution_count": 29,
   "metadata": {},
   "outputs": [
    {
     "data": {
      "text/html": [
       "<div>\n",
       "<style scoped>\n",
       "    .dataframe tbody tr th:only-of-type {\n",
       "        vertical-align: middle;\n",
       "    }\n",
       "\n",
       "    .dataframe tbody tr th {\n",
       "        vertical-align: top;\n",
       "    }\n",
       "\n",
       "    .dataframe thead th {\n",
       "        text-align: right;\n",
       "    }\n",
       "</style>\n",
       "<table border=\"1\" class=\"dataframe\">\n",
       "  <thead>\n",
       "    <tr style=\"text-align: right;\">\n",
       "      <th></th>\n",
       "      <th>state_fips</th>\n",
       "      <th>county_fips</th>\n",
       "      <th>state</th>\n",
       "      <th>county</th>\n",
       "      <th>TOT_POP</th>\n",
       "      <th>MALE_PERC</th>\n",
       "      <th>FEMALE_PERC</th>\n",
       "      <th>WHITE_POP_PERC</th>\n",
       "      <th>BLACK_POP_PERC</th>\n",
       "      <th>ASIAN_POP_PERC</th>\n",
       "      <th>...</th>\n",
       "      <th>AGE_OTO4</th>\n",
       "      <th>AGE_5TO14</th>\n",
       "      <th>AGE_15TO24</th>\n",
       "      <th>AGE_25TO34</th>\n",
       "      <th>AGE_35TO44</th>\n",
       "      <th>AGE_45TO54</th>\n",
       "      <th>AGE_55TO64</th>\n",
       "      <th>AGE_65TO74</th>\n",
       "      <th>AGE_75TO84</th>\n",
       "      <th>AGE_84PLUS</th>\n",
       "    </tr>\n",
       "  </thead>\n",
       "  <tbody>\n",
       "    <tr>\n",
       "      <th>0</th>\n",
       "      <td>1</td>\n",
       "      <td>1</td>\n",
       "      <td>Alabama</td>\n",
       "      <td>Autauga County</td>\n",
       "      <td>55601</td>\n",
       "      <td>0.48551</td>\n",
       "      <td>0.51449</td>\n",
       "      <td>0.78380</td>\n",
       "      <td>0.20617</td>\n",
       "      <td>0.01730</td>\n",
       "      <td>...</td>\n",
       "      <td>3364</td>\n",
       "      <td>7305</td>\n",
       "      <td>6928</td>\n",
       "      <td>7166</td>\n",
       "      <td>7244</td>\n",
       "      <td>7777</td>\n",
       "      <td>7164</td>\n",
       "      <td>4900</td>\n",
       "      <td>2882</td>\n",
       "      <td>871</td>\n",
       "    </tr>\n",
       "    <tr>\n",
       "      <th>1</th>\n",
       "      <td>1</td>\n",
       "      <td>3</td>\n",
       "      <td>Alabama</td>\n",
       "      <td>Baldwin County</td>\n",
       "      <td>218022</td>\n",
       "      <td>0.48462</td>\n",
       "      <td>0.51538</td>\n",
       "      <td>0.88960</td>\n",
       "      <td>0.09688</td>\n",
       "      <td>0.01561</td>\n",
       "      <td>...</td>\n",
       "      <td>11955</td>\n",
       "      <td>26783</td>\n",
       "      <td>24040</td>\n",
       "      <td>24528</td>\n",
       "      <td>26033</td>\n",
       "      <td>28703</td>\n",
       "      <td>31409</td>\n",
       "      <td>26738</td>\n",
       "      <td>13529</td>\n",
       "      <td>4304</td>\n",
       "    </tr>\n",
       "    <tr>\n",
       "      <th>2</th>\n",
       "      <td>1</td>\n",
       "      <td>5</td>\n",
       "      <td>Alabama</td>\n",
       "      <td>Barbour County</td>\n",
       "      <td>24881</td>\n",
       "      <td>0.52783</td>\n",
       "      <td>0.47217</td>\n",
       "      <td>0.50034</td>\n",
       "      <td>0.49291</td>\n",
       "      <td>0.00607</td>\n",
       "      <td>...</td>\n",
       "      <td>1284</td>\n",
       "      <td>2957</td>\n",
       "      <td>2923</td>\n",
       "      <td>3466</td>\n",
       "      <td>2981</td>\n",
       "      <td>3227</td>\n",
       "      <td>3211</td>\n",
       "      <td>2877</td>\n",
       "      <td>1483</td>\n",
       "      <td>472</td>\n",
       "    </tr>\n",
       "    <tr>\n",
       "      <th>3</th>\n",
       "      <td>1</td>\n",
       "      <td>7</td>\n",
       "      <td>Alabama</td>\n",
       "      <td>Bibb County</td>\n",
       "      <td>22400</td>\n",
       "      <td>0.53219</td>\n",
       "      <td>0.46781</td>\n",
       "      <td>0.77812</td>\n",
       "      <td>0.21902</td>\n",
       "      <td>0.00379</td>\n",
       "      <td>...</td>\n",
       "      <td>1285</td>\n",
       "      <td>2497</td>\n",
       "      <td>2573</td>\n",
       "      <td>3327</td>\n",
       "      <td>2952</td>\n",
       "      <td>3179</td>\n",
       "      <td>2897</td>\n",
       "      <td>2174</td>\n",
       "      <td>1153</td>\n",
       "      <td>363</td>\n",
       "    </tr>\n",
       "    <tr>\n",
       "      <th>4</th>\n",
       "      <td>1</td>\n",
       "      <td>9</td>\n",
       "      <td>Alabama</td>\n",
       "      <td>Blount County</td>\n",
       "      <td>57840</td>\n",
       "      <td>0.49274</td>\n",
       "      <td>0.50726</td>\n",
       "      <td>0.97184</td>\n",
       "      <td>0.02163</td>\n",
       "      <td>0.00541</td>\n",
       "      <td>...</td>\n",
       "      <td>3460</td>\n",
       "      <td>7537</td>\n",
       "      <td>6846</td>\n",
       "      <td>6934</td>\n",
       "      <td>7067</td>\n",
       "      <td>7818</td>\n",
       "      <td>7630</td>\n",
       "      <td>6243</td>\n",
       "      <td>3273</td>\n",
       "      <td>1032</td>\n",
       "    </tr>\n",
       "  </tbody>\n",
       "</table>\n",
       "<p>5 rows × 21 columns</p>\n",
       "</div>"
      ],
      "text/plain": [
       "   state_fips  county_fips    state          county  TOT_POP  MALE_PERC  \\\n",
       "0           1            1  Alabama  Autauga County    55601    0.48551   \n",
       "1           1            3  Alabama  Baldwin County   218022    0.48462   \n",
       "2           1            5  Alabama  Barbour County    24881    0.52783   \n",
       "3           1            7  Alabama     Bibb County    22400    0.53219   \n",
       "4           1            9  Alabama   Blount County    57840    0.49274   \n",
       "\n",
       "   FEMALE_PERC  WHITE_POP_PERC  BLACK_POP_PERC  ASIAN_POP_PERC     ...      \\\n",
       "0      0.51449         0.78380         0.20617         0.01730     ...       \n",
       "1      0.51538         0.88960         0.09688         0.01561     ...       \n",
       "2      0.47217         0.50034         0.49291         0.00607     ...       \n",
       "3      0.46781         0.77812         0.21902         0.00379     ...       \n",
       "4      0.50726         0.97184         0.02163         0.00541     ...       \n",
       "\n",
       "   AGE_OTO4  AGE_5TO14  AGE_15TO24  AGE_25TO34  AGE_35TO44  AGE_45TO54  \\\n",
       "0      3364       7305        6928        7166        7244        7777   \n",
       "1     11955      26783       24040       24528       26033       28703   \n",
       "2      1284       2957        2923        3466        2981        3227   \n",
       "3      1285       2497        2573        3327        2952        3179   \n",
       "4      3460       7537        6846        6934        7067        7818   \n",
       "\n",
       "   AGE_55TO64  AGE_65TO74  AGE_75TO84  AGE_84PLUS  \n",
       "0        7164        4900        2882         871  \n",
       "1       31409       26738       13529        4304  \n",
       "2        3211        2877        1483         472  \n",
       "3        2897        2174        1153         363  \n",
       "4        7630        6243        3273        1032  \n",
       "\n",
       "[5 rows x 21 columns]"
      ]
     },
     "execution_count": 29,
     "metadata": {},
     "output_type": "execute_result"
    }
   ],
   "source": [
    "df6.head()"
   ]
  },
  {
   "cell_type": "code",
   "execution_count": 30,
   "metadata": {},
   "outputs": [],
   "source": [
    "df6.to_csv('us_county_demographics.csv', index=False)"
   ]
  },
  {
   "cell_type": "code",
   "execution_count": null,
   "metadata": {},
   "outputs": [],
   "source": []
  }
 ],
 "metadata": {
  "kernelspec": {
   "display_name": "py3dev",
   "language": "python",
   "name": "py3dev"
  },
  "language_info": {
   "codemirror_mode": {
    "name": "ipython",
    "version": 3
   },
   "file_extension": ".py",
   "mimetype": "text/x-python",
   "name": "python",
   "nbconvert_exporter": "python",
   "pygments_lexer": "ipython3",
   "version": "3.6.2"
  },
  "widgets": {
   "application/vnd.jupyter.widget-state+json": {
    "state": {},
    "version_major": 2,
    "version_minor": 0
   }
  }
 },
 "nbformat": 4,
 "nbformat_minor": 4
}
